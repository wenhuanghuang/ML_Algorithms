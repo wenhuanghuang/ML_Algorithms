{
 "cells": [
  {
   "cell_type": "code",
   "execution_count": 60,
   "metadata": {
    "collapsed": true
   },
   "outputs": [],
   "source": [
    "from __future__ import division, print_function\n",
    "import pandas as pd\n",
    "import numpy as np\n",
    "import matplotlib.pyplot as plt\n",
    "import seaborn as sns\n",
    "import json\n",
    "%matplotlib inline\n",
    "\n",
    "np.random.seed(2)\n",
    "\n",
    "import numpy as np\n",
    "import bm_classify as sol"
   ]
  },
  {
   "cell_type": "code",
   "execution_count": 61,
   "outputs": [
    {
     "name": "stderr",
     "output_type": "stream",
     "text": [
      "/Users/huangwenhuang/miniconda3/envs/csci544/lib/python3.7/site-packages/seaborn/_decorators.py:43: FutureWarning: Pass the following variable as a keyword arg: x. From version 0.12, the only valid positional argument will be `data`, and passing other arguments without an explicit keyword will result in an error or misinterpretation.\n",
      "  FutureWarning\n"
     ]
    },
    {
     "data": {
      "text/plain": "digit\n9        500\n8        500\n7        500\n6        500\n5        500\n4        500\n3        500\n2        500\n1        500\n0        500\ndtype: int64"
     },
     "execution_count": 61,
     "metadata": {},
     "output_type": "execute_result"
    },
    {
     "data": {
      "text/plain": "<Figure size 432x288 with 1 Axes>",
      "image/png": "[encoded data removed]"
     },
     "metadata": {
      "needs_background": "light"
     },
     "output_type": "display_data"
    }
   ],
   "source": [
    "# load data, 0-9 digit images\n",
    "dataset='mnist_subset.json'\n",
    "with open(dataset, 'r') as f:\n",
    "    data_set = json.load(f)\n",
    "train_set, valid_set, test_set = data_set['train'], data_set['valid'], data_set['test']\n",
    "X_train = pd.DataFrame(train_set[0])\n",
    "Y_train = pd.DataFrame(train_set[1], columns=['digit'])\n",
    "g = sns.countplot(train_set[1])\n",
    "Y_train.value_counts()"
   ],
   "metadata": {
    "collapsed": false,
    "pycharm": {
     "name": "#%%\n"
    }
   }
  },
  {
   "cell_type": "code",
   "execution_count": 62,
   "outputs": [
    {
     "data": {
      "text/plain": "count       784\nunique        1\ntop       False\nfreq        784\ndtype: object"
     },
     "execution_count": 62,
     "metadata": {},
     "output_type": "execute_result"
    }
   ],
   "source": [
    "X_train.isnull().any().describe()"
   ],
   "metadata": {
    "collapsed": false,
    "pycharm": {
     "name": "#%%\n"
    }
   }
  },
  {
   "cell_type": "code",
   "execution_count": 63,
   "outputs": [],
   "source": [
    "X_train = X_train / 255.0\n",
    "X_train = X_train.values.reshape(-1,28,28,1)\n"
   ],
   "metadata": {
    "collapsed": false,
    "pycharm": {
     "name": "#%%\n"
    }
   }
  },
  {
   "cell_type": "code",
   "execution_count": 64,
   "outputs": [
    {
     "data": {
      "text/plain": "<Figure size 432x288 with 1 Axes>",
      "image/png": "[encoded data removed]"
     },
     "metadata": {
      "needs_background": "light"
     },
     "output_type": "display_data"
    }
   ],
   "source": [
    "# show example image\n",
    "g = plt.imshow(X_train[0][:,:,0])"
   ],
   "metadata": {
    "collapsed": false,
    "pycharm": {
     "name": "#%%\n"
    }
   }
  },
  {
   "cell_type": "code",
   "execution_count": 65,
   "outputs": [],
   "source": [
    "def accuracy_score(true, preds):\n",
    "    return np.sum(true == preds).astype(float) / len(true)"
   ],
   "metadata": {
    "collapsed": false,
    "pycharm": {
     "name": "#%%\n"
    }
   }
  },
  {
   "cell_type": "code",
   "execution_count": 66,
   "outputs": [],
   "source": [
    "def run_multiclass():\n",
    "    from data_loader import data_loader_mnist\n",
    "    import time\n",
    "    datasets = [(data_loader_mnist(), 'MNIST', 10)]\n",
    "\n",
    "    for data, name, num_classes in datasets:\n",
    "        print('%s: %d class classification' % (name, num_classes))\n",
    "        X_train, X_test, y_train, y_test = data\n",
    "        for gd_type in [\"sgd\", \"gd\"]:\n",
    "            s = time.time()\n",
    "            w, b = sol.multiclass_train(X_train, y_train, C=num_classes, gd_type=gd_type)\n",
    "            print(gd_type + ' training time: %0.6f seconds' %(time.time()-s))\n",
    "            train_preds = sol.multiclass_predict(X_train, w=w, b=b)\n",
    "            preds = sol.multiclass_predict(X_test, w=w, b=b)\n",
    "            print('train acc: %f, test acc: %f'\n",
    "                % (accuracy_score(y_train, train_preds), accuracy_score(y_test, preds)))\n",
    "        print()"
   ],
   "metadata": {
    "collapsed": false,
    "pycharm": {
     "name": "#%%\n"
    }
   }
  },
  {
   "cell_type": "code",
   "execution_count": 67,
   "outputs": [
    {
     "name": "stdout",
     "output_type": "stream",
     "text": [
      "MNIST: 10 class classification\n",
      "sgd training time: 0.060494 seconds\n",
      "train acc: 0.771800, test acc: 0.773000\n",
      "gd training time: 14.033835 seconds\n",
      "train acc: 0.945400, test acc: 0.896000\n",
      "\n"
     ]
    }
   ],
   "source": [
    "run_multiclass()"
   ],
   "metadata": {
    "collapsed": false,
    "pycharm": {
     "name": "#%%\n"
    }
   }
  },
  {
   "cell_type": "code",
   "execution_count": 67,
   "outputs": [],
   "source": [],
   "metadata": {
    "collapsed": false,
    "pycharm": {
     "name": "#%%\n"
    }
   }
  }
 ],
 "metadata": {
  "kernelspec": {
   "display_name": "Python 3",
   "language": "python",
   "name": "python3"
  },
  "language_info": {
   "codemirror_mode": {
    "name": "ipython",
    "version": 2
   },
   "file_extension": ".py",
   "mimetype": "text/x-python",
   "name": "python",
   "nbconvert_exporter": "python",
   "pygments_lexer": "ipython2",
   "version": "2.7.6"
  }
 },
 "nbformat": 4,
 "nbformat_minor": 0
}