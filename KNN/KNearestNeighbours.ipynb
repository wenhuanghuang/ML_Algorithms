{
 "cells": [
  {
   "cell_type": "code",
   "execution_count": 6,
   "metadata": {
    "collapsed": true
   },
   "outputs": [],
   "source": [
    "import pandas as pd\n",
    "from data import data_processing\n",
    "from utils import Distances, HyperparameterTuner, NormalizationScaler, MinMaxScaler"
   ]
  },
  {
   "cell_type": "code",
   "execution_count": 7,
   "outputs": [
    {
     "data": {
      "text/plain": "    age  sex(1-male 0-female)   cp  trestbps   chol  fbs  restecg  thalach  \\\n0  63.0                   1.0  1.0     145.0  233.0  1.0      2.0    150.0   \n1  67.0                   1.0  4.0     160.0  286.0  0.0      2.0    108.0   \n2  67.0                   1.0  4.0     120.0  229.0  0.0      2.0    129.0   \n3  37.0                   1.0  3.0     130.0  250.0  0.0      0.0    187.0   \n4  41.0                   0.0  2.0     130.0  204.0  0.0      2.0    172.0   \n\n   exang  oldpeak  slope   ca  thal  num(pred value)  \n0    0.0      2.3    3.0  0.0   6.0                0  \n1    1.0      1.5    2.0  3.0   3.0                1  \n2    1.0      2.6    2.0  2.0   7.0                1  \n3    0.0      3.5    3.0  0.0   3.0                0  \n4    0.0      1.4    1.0  0.0   3.0                0  ",
      "text/html": "<div>\n<style scoped>\n    .dataframe tbody tr th:only-of-type {\n        vertical-align: middle;\n    }\n\n    .dataframe tbody tr th {\n        vertical-align: top;\n    }\n\n    .dataframe thead th {\n        text-align: right;\n    }\n</style>\n<table border=\"1\" class=\"dataframe\">\n  <thead>\n    <tr style=\"text-align: right;\">\n      <th></th>\n      <th>age</th>\n      <th>sex(1-male 0-female)</th>\n      <th>cp</th>\n      <th>trestbps</th>\n      <th>chol</th>\n      <th>fbs</th>\n      <th>restecg</th>\n      <th>thalach</th>\n      <th>exang</th>\n      <th>oldpeak</th>\n      <th>slope</th>\n      <th>ca</th>\n      <th>thal</th>\n      <th>num(pred value)</th>\n    </tr>\n  </thead>\n  <tbody>\n    <tr>\n      <th>0</th>\n      <td>63.0</td>\n      <td>1.0</td>\n      <td>1.0</td>\n      <td>145.0</td>\n      <td>233.0</td>\n      <td>1.0</td>\n      <td>2.0</td>\n      <td>150.0</td>\n      <td>0.0</td>\n      <td>2.3</td>\n      <td>3.0</td>\n      <td>0.0</td>\n      <td>6.0</td>\n      <td>0</td>\n    </tr>\n    <tr>\n      <th>1</th>\n      <td>67.0</td>\n      <td>1.0</td>\n      <td>4.0</td>\n      <td>160.0</td>\n      <td>286.0</td>\n      <td>0.0</td>\n      <td>2.0</td>\n      <td>108.0</td>\n      <td>1.0</td>\n      <td>1.5</td>\n      <td>2.0</td>\n      <td>3.0</td>\n      <td>3.0</td>\n      <td>1</td>\n    </tr>\n    <tr>\n      <th>2</th>\n      <td>67.0</td>\n      <td>1.0</td>\n      <td>4.0</td>\n      <td>120.0</td>\n      <td>229.0</td>\n      <td>0.0</td>\n      <td>2.0</td>\n      <td>129.0</td>\n      <td>1.0</td>\n      <td>2.6</td>\n      <td>2.0</td>\n      <td>2.0</td>\n      <td>7.0</td>\n      <td>1</td>\n    </tr>\n    <tr>\n      <th>3</th>\n      <td>37.0</td>\n      <td>1.0</td>\n      <td>3.0</td>\n      <td>130.0</td>\n      <td>250.0</td>\n      <td>0.0</td>\n      <td>0.0</td>\n      <td>187.0</td>\n      <td>0.0</td>\n      <td>3.5</td>\n      <td>3.0</td>\n      <td>0.0</td>\n      <td>3.0</td>\n      <td>0</td>\n    </tr>\n    <tr>\n      <th>4</th>\n      <td>41.0</td>\n      <td>0.0</td>\n      <td>2.0</td>\n      <td>130.0</td>\n      <td>204.0</td>\n      <td>0.0</td>\n      <td>2.0</td>\n      <td>172.0</td>\n      <td>0.0</td>\n      <td>1.4</td>\n      <td>1.0</td>\n      <td>0.0</td>\n      <td>3.0</td>\n      <td>0</td>\n    </tr>\n  </tbody>\n</table>\n</div>"
     },
     "execution_count": 7,
     "metadata": {},
     "output_type": "execute_result"
    }
   ],
   "source": [
    "data = pd.read_csv('heart_disease.csv', low_memory=False, sep=',', na_values='?')\n",
    "data.head()\n"
   ],
   "metadata": {
    "collapsed": false,
    "pycharm": {
     "name": "#%%\n"
    }
   }
  },
  {
   "cell_type": "code",
   "execution_count": 8,
   "outputs": [
    {
     "name": "stdout",
     "output_type": "stream",
     "text": [
      "<class 'pandas.core.frame.DataFrame'>\n",
      "RangeIndex: 303 entries, 0 to 302\n",
      "Data columns (total 14 columns):\n",
      " #   Column                Non-Null Count  Dtype  \n",
      "---  ------                --------------  -----  \n",
      " 0   age                   303 non-null    float64\n",
      " 1   sex(1-male 0-female)  303 non-null    float64\n",
      " 2   cp                    303 non-null    float64\n",
      " 3   trestbps              303 non-null    float64\n",
      " 4   chol                  303 non-null    float64\n",
      " 5   fbs                   303 non-null    float64\n",
      " 6   restecg               303 non-null    float64\n",
      " 7   thalach               303 non-null    float64\n",
      " 8   exang                 303 non-null    float64\n",
      " 9   oldpeak               303 non-null    float64\n",
      " 10  slope                 303 non-null    float64\n",
      " 11  ca                    303 non-null    float64\n",
      " 12  thal                  303 non-null    float64\n",
      " 13  num(pred value)       303 non-null    int64  \n",
      "dtypes: float64(13), int64(1)\n",
      "memory usage: 33.3 KB\n"
     ]
    }
   ],
   "source": [
    "data.info()\n"
   ],
   "metadata": {
    "collapsed": false,
    "pycharm": {
     "name": "#%%\n"
    }
   }
  },
  {
   "cell_type": "code",
   "execution_count": 9,
   "outputs": [
    {
     "data": {
      "text/plain": "              age  sex(1-male 0-female)          cp    trestbps        chol  \\\ncount  303.000000            303.000000  303.000000  303.000000  303.000000   \nmean    54.438944              0.679868    3.158416  131.689769  246.693069   \nstd      9.038662              0.467299    0.960126   17.599748   51.776918   \nmin     29.000000              0.000000    1.000000   94.000000  126.000000   \n25%     48.000000              0.000000    3.000000  120.000000  211.000000   \n50%     56.000000              1.000000    3.000000  130.000000  241.000000   \n75%     61.000000              1.000000    4.000000  140.000000  275.000000   \nmax     77.000000              1.000000    4.000000  200.000000  564.000000   \n\n              fbs     restecg     thalach       exang     oldpeak       slope  \\\ncount  303.000000  303.000000  303.000000  303.000000  303.000000  303.000000   \nmean     0.148515    0.990099  149.607261    0.326733    1.039604    1.600660   \nstd      0.356198    0.994971   22.875003    0.469794    1.161075    0.616226   \nmin      0.000000    0.000000   71.000000    0.000000    0.000000    1.000000   \n25%      0.000000    0.000000  133.500000    0.000000    0.000000    1.000000   \n50%      0.000000    1.000000  153.000000    0.000000    0.800000    2.000000   \n75%      0.000000    2.000000  166.000000    1.000000    1.600000    2.000000   \nmax      1.000000    2.000000  202.000000    1.000000    6.200000    3.000000   \n\n               ca        thal  num(pred value)  \ncount  303.000000  303.000000       303.000000  \nmean     0.686469    4.726073         0.458746  \nstd      0.951149    1.936290         0.499120  \nmin      0.000000    3.000000         0.000000  \n25%      0.000000    3.000000         0.000000  \n50%      0.000000    3.000000         0.000000  \n75%      1.000000    7.000000         1.000000  \nmax      3.000000    7.000000         1.000000  ",
      "text/html": "<div>\n<style scoped>\n    .dataframe tbody tr th:only-of-type {\n        vertical-align: middle;\n    }\n\n    .dataframe tbody tr th {\n        vertical-align: top;\n    }\n\n    .dataframe thead th {\n        text-align: right;\n    }\n</style>\n<table border=\"1\" class=\"dataframe\">\n  <thead>\n    <tr style=\"text-align: right;\">\n      <th></th>\n      <th>age</th>\n      <th>sex(1-male 0-female)</th>\n      <th>cp</th>\n      <th>trestbps</th>\n      <th>chol</th>\n      <th>fbs</th>\n      <th>restecg</th>\n      <th>thalach</th>\n      <th>exang</th>\n      <th>oldpeak</th>\n      <th>slope</th>\n      <th>ca</th>\n      <th>thal</th>\n      <th>num(pred value)</th>\n    </tr>\n  </thead>\n  <tbody>\n    <tr>\n      <th>count</th>\n      <td>303.000000</td>\n      <td>303.000000</td>\n      <td>303.000000</td>\n      <td>303.000000</td>\n      <td>303.000000</td>\n      <td>303.000000</td>\n      <td>303.000000</td>\n      <td>303.000000</td>\n      <td>303.000000</td>\n      <td>303.000000</td>\n      <td>303.000000</td>\n      <td>303.000000</td>\n      <td>303.000000</td>\n      <td>303.000000</td>\n    </tr>\n    <tr>\n      <th>mean</th>\n      <td>54.438944</td>\n      <td>0.679868</td>\n      <td>3.158416</td>\n      <td>131.689769</td>\n      <td>246.693069</td>\n      <td>0.148515</td>\n      <td>0.990099</td>\n      <td>149.607261</td>\n      <td>0.326733</td>\n      <td>1.039604</td>\n      <td>1.600660</td>\n      <td>0.686469</td>\n      <td>4.726073</td>\n      <td>0.458746</td>\n    </tr>\n    <tr>\n      <th>std</th>\n      <td>9.038662</td>\n      <td>0.467299</td>\n      <td>0.960126</td>\n      <td>17.599748</td>\n      <td>51.776918</td>\n      <td>0.356198</td>\n      <td>0.994971</td>\n      <td>22.875003</td>\n      <td>0.469794</td>\n      <td>1.161075</td>\n      <td>0.616226</td>\n      <td>0.951149</td>\n      <td>1.936290</td>\n      <td>0.499120</td>\n    </tr>\n    <tr>\n      <th>min</th>\n      <td>29.000000</td>\n      <td>0.000000</td>\n      <td>1.000000</td>\n      <td>94.000000</td>\n      <td>126.000000</td>\n      <td>0.000000</td>\n      <td>0.000000</td>\n      <td>71.000000</td>\n      <td>0.000000</td>\n      <td>0.000000</td>\n      <td>1.000000</td>\n      <td>0.000000</td>\n      <td>3.000000</td>\n      <td>0.000000</td>\n    </tr>\n    <tr>\n      <th>25%</th>\n      <td>48.000000</td>\n      <td>0.000000</td>\n      <td>3.000000</td>\n      <td>120.000000</td>\n      <td>211.000000</td>\n      <td>0.000000</td>\n      <td>0.000000</td>\n      <td>133.500000</td>\n      <td>0.000000</td>\n      <td>0.000000</td>\n      <td>1.000000</td>\n      <td>0.000000</td>\n      <td>3.000000</td>\n      <td>0.000000</td>\n    </tr>\n    <tr>\n      <th>50%</th>\n      <td>56.000000</td>\n      <td>1.000000</td>\n      <td>3.000000</td>\n      <td>130.000000</td>\n      <td>241.000000</td>\n      <td>0.000000</td>\n      <td>1.000000</td>\n      <td>153.000000</td>\n      <td>0.000000</td>\n      <td>0.800000</td>\n      <td>2.000000</td>\n      <td>0.000000</td>\n      <td>3.000000</td>\n      <td>0.000000</td>\n    </tr>\n    <tr>\n      <th>75%</th>\n      <td>61.000000</td>\n      <td>1.000000</td>\n      <td>4.000000</td>\n      <td>140.000000</td>\n      <td>275.000000</td>\n      <td>0.000000</td>\n      <td>2.000000</td>\n      <td>166.000000</td>\n      <td>1.000000</td>\n      <td>1.600000</td>\n      <td>2.000000</td>\n      <td>1.000000</td>\n      <td>7.000000</td>\n      <td>1.000000</td>\n    </tr>\n    <tr>\n      <th>max</th>\n      <td>77.000000</td>\n      <td>1.000000</td>\n      <td>4.000000</td>\n      <td>200.000000</td>\n      <td>564.000000</td>\n      <td>1.000000</td>\n      <td>2.000000</td>\n      <td>202.000000</td>\n      <td>1.000000</td>\n      <td>6.200000</td>\n      <td>3.000000</td>\n      <td>3.000000</td>\n      <td>7.000000</td>\n      <td>1.000000</td>\n    </tr>\n  </tbody>\n</table>\n</div>"
     },
     "execution_count": 9,
     "metadata": {},
     "output_type": "execute_result"
    }
   ],
   "source": [
    "data.describe()"
   ],
   "metadata": {
    "collapsed": false,
    "pycharm": {
     "name": "#%%\n"
    }
   }
  },
  {
   "cell_type": "code",
   "execution_count": 10,
   "outputs": [
    {
     "name": "stdout",
     "output_type": "stream",
     "text": [
      "x_train shape =  (242, 14)\n",
      "y_train shape =  (242,)\n",
      "**Without Scaling**\n",
      "k = 15\n",
      "distance function = cosine_dist\n",
      "f1 score = 0.638\n",
      "\n",
      "**With Scaling**\n",
      "k = 21\n",
      "distance function = euclidean\n",
      "scaler = min_max_scale\n",
      "f1 score = 0.667\n"
     ]
    }
   ],
   "source": [
    "distance_funcs = {\n",
    "        'euclidean': Distances.euclidean_distance,\n",
    "        'minkowski': Distances.minkowski_distance,\n",
    "        'cosine_dist': Distances.cosine_similarity_distance,\n",
    "    }\n",
    "\n",
    "scaling_classes = {\n",
    "        'min_max_scale': MinMaxScaler,\n",
    "        'normalize': NormalizationScaler,\n",
    "    }\n",
    "\n",
    "x_train, y_train, x_val, y_val, x_test, y_test = data_processing()\n",
    "\n",
    "print('x_train shape = ', x_train.shape)\n",
    "print('y_train shape = ', y_train.shape)\n",
    "\n",
    "tuner_without_scaling_obj = HyperparameterTuner()\n",
    "tuner_without_scaling_obj.tuning_without_scaling(distance_funcs, x_train, y_train, x_val, y_val)\n",
    "\n",
    "print(\"**Without Scaling**\")\n",
    "print(\"k =\", tuner_without_scaling_obj.best_k)\n",
    "print(\"distance function =\", tuner_without_scaling_obj.best_distance_function)\n",
    "print(\"f1 score = %0.3f\" % tuner_without_scaling_obj.best_f1)\n",
    "\n",
    "tuner_with_scaling_obj = HyperparameterTuner()\n",
    "tuner_with_scaling_obj.tuning_with_scaling(distance_funcs, scaling_classes, x_train, y_train, x_val, y_val)\n",
    "\n",
    "print(\"\\n**With Scaling**\")\n",
    "print(\"k =\", tuner_with_scaling_obj.best_k)\n",
    "print(\"distance function =\", tuner_with_scaling_obj.best_distance_function)\n",
    "print(\"scaler =\", tuner_with_scaling_obj.best_scaler)\n",
    "print(\"f1 score = %0.3f\" %tuner_with_scaling_obj.best_f1)"
   ],
   "metadata": {
    "collapsed": false,
    "pycharm": {
     "name": "#%%\n"
    }
   }
  }
 ],
 "metadata": {
  "kernelspec": {
   "display_name": "Python 3",
   "language": "python",
   "name": "python3"
  },
  "language_info": {
   "codemirror_mode": {
    "name": "ipython",
    "version": 2
   },
   "file_extension": ".py",
   "mimetype": "text/x-python",
   "name": "python",
   "nbconvert_exporter": "python",
   "pygments_lexer": "ipython2",
   "version": "2.7.6"
  }
 },
 "nbformat": 4,
 "nbformat_minor": 0
}